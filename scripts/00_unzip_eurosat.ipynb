{
 "cells": [
  {
   "cell_type": "markdown",
   "id": "0434540f",
   "metadata": {},
   "source": [
    "# EuroSAT"
   ]
  },
  {
   "cell_type": "code",
   "execution_count": 7,
   "id": "224df414",
   "metadata": {},
   "outputs": [],
   "source": [
    "DATA_PATH = '/home/waves/generalist_vs_specialized_geoAI'\n",
    "EUROSAT_PATH = DATA_PATH + '/EuroSAT'\n",
    "EUROSAT_S1_ZIP = EUROSAT_PATH + '/EuroSAT_MS.zip'\n",
    "EUROSAT_S2_ZIP = EUROSAT_PATH + '/EuroSAT_SAR.zip'"
   ]
  },
  {
   "cell_type": "code",
   "execution_count": 8,
   "id": "f9d04f21",
   "metadata": {},
   "outputs": [],
   "source": [
    "import zipfile\n",
    "import os\n",
    "\n",
    "\n",
    "zipfile.ZipFile(EUROSAT_S1_ZIP).extractall(EUROSAT_PATH)\n",
    "zipfile.ZipFile(EUROSAT_S2_ZIP).extractall(EUROSAT_PATH)"
   ]
  },
  {
   "cell_type": "code",
   "execution_count": null,
   "id": "e4421401",
   "metadata": {},
   "outputs": [],
   "source": []
  }
 ],
 "metadata": {
  "kernelspec": {
   "display_name": "GeoAI Course",
   "language": "python",
   "name": "geoai"
  },
  "language_info": {
   "codemirror_mode": {
    "name": "ipython",
    "version": 3
   },
   "file_extension": ".py",
   "mimetype": "text/x-python",
   "name": "python",
   "nbconvert_exporter": "python",
   "pygments_lexer": "ipython3",
   "version": "3.11.13"
  }
 },
 "nbformat": 4,
 "nbformat_minor": 5
}
